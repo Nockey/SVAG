{
 "cells": [
  {
   "cell_type": "code",
   "execution_count": 2,
   "id": "54788239-e3f2-4539-86f1-4040d64eed4c",
   "metadata": {
    "execution": {
     "iopub.execute_input": "2024-07-12T07:07:31.160683Z",
     "iopub.status.busy": "2024-07-12T07:07:31.159361Z",
     "iopub.status.idle": "2024-07-12T07:09:18.633568Z",
     "shell.execute_reply": "2024-07-12T07:09:18.632280Z",
     "shell.execute_reply.started": "2024-07-12T07:07:31.160683Z"
    }
   },
   "outputs": [
    {
     "name": "stdout",
     "output_type": "stream",
     "text": [
      "Collecting transformers\n",
      "  Downloading transformers-4.42.4-py3-none-any.whl.metadata (43 kB)\n",
      "     ---------------------------------------- 0.0/43.6 kB ? eta -:--:--\n",
      "     ------------------------------------- -- 41.0/43.6 kB 1.9 MB/s eta 0:00:01\n",
      "     ------------------------------------- -- 41.0/43.6 kB 1.9 MB/s eta 0:00:01\n",
      "     -------------------------------------- 43.6/43.6 kB 355.2 kB/s eta 0:00:00\n",
      "Requirement already satisfied: filelock in c:\\users\\sivaranjani\\appdata\\local\\programs\\python\\python311\\lib\\site-packages (from transformers) (3.13.1)\n",
      "Collecting huggingface-hub<1.0,>=0.23.2 (from transformers)\n",
      "  Downloading huggingface_hub-0.23.4-py3-none-any.whl.metadata (12 kB)\n",
      "Requirement already satisfied: numpy<2.0,>=1.17 in c:\\users\\sivaranjani\\appdata\\local\\programs\\python\\python311\\lib\\site-packages (from transformers) (1.26.0)\n",
      "Requirement already satisfied: packaging>=20.0 in c:\\users\\sivaranjani\\appdata\\local\\programs\\python\\python311\\lib\\site-packages (from transformers) (23.1)\n",
      "Requirement already satisfied: pyyaml>=5.1 in c:\\users\\sivaranjani\\appdata\\local\\programs\\python\\python311\\lib\\site-packages (from transformers) (6.0.1)\n",
      "Requirement already satisfied: regex!=2019.12.17 in c:\\users\\sivaranjani\\appdata\\local\\programs\\python\\python311\\lib\\site-packages (from transformers) (2024.5.15)\n",
      "Requirement already satisfied: requests in c:\\users\\sivaranjani\\appdata\\local\\programs\\python\\python311\\lib\\site-packages (from transformers) (2.31.0)\n",
      "Collecting safetensors>=0.4.1 (from transformers)\n",
      "  Downloading safetensors-0.4.3-cp311-none-win_amd64.whl.metadata (3.9 kB)\n",
      "Collecting tokenizers<0.20,>=0.19 (from transformers)\n",
      "  Downloading tokenizers-0.19.1-cp311-none-win_amd64.whl.metadata (6.9 kB)\n",
      "Requirement already satisfied: tqdm>=4.27 in c:\\users\\sivaranjani\\appdata\\local\\programs\\python\\python311\\lib\\site-packages (from transformers) (4.66.1)\n",
      "Requirement already satisfied: fsspec>=2023.5.0 in c:\\users\\sivaranjani\\appdata\\local\\programs\\python\\python311\\lib\\site-packages (from huggingface-hub<1.0,>=0.23.2->transformers) (2023.10.0)\n",
      "Requirement already satisfied: typing-extensions>=3.7.4.3 in c:\\users\\sivaranjani\\appdata\\local\\programs\\python\\python311\\lib\\site-packages (from huggingface-hub<1.0,>=0.23.2->transformers) (4.8.0)\n",
      "Requirement already satisfied: colorama in c:\\users\\sivaranjani\\appdata\\local\\programs\\python\\python311\\lib\\site-packages (from tqdm>=4.27->transformers) (0.4.6)\n",
      "Requirement already satisfied: charset-normalizer<4,>=2 in c:\\users\\sivaranjani\\appdata\\local\\programs\\python\\python311\\lib\\site-packages (from requests->transformers) (3.2.0)\n",
      "Requirement already satisfied: idna<4,>=2.5 in c:\\users\\sivaranjani\\appdata\\roaming\\python\\python311\\site-packages (from requests->transformers) (2.10)\n",
      "Requirement already satisfied: urllib3<3,>=1.21.1 in c:\\users\\sivaranjani\\appdata\\local\\programs\\python\\python311\\lib\\site-packages (from requests->transformers) (2.0.5)\n",
      "Requirement already satisfied: certifi>=2017.4.17 in c:\\users\\sivaranjani\\appdata\\local\\programs\\python\\python311\\lib\\site-packages (from requests->transformers) (2023.7.22)\n",
      "Downloading transformers-4.42.4-py3-none-any.whl (9.3 MB)\n",
      "   ---------------------------------------- 0.0/9.3 MB ? eta -:--:--\n",
      "   ---------------------------------------- 0.1/9.3 MB 1.6 MB/s eta 0:00:06\n",
      "    --------------------------------------- 0.1/9.3 MB 1.4 MB/s eta 0:00:07\n",
      "    --------------------------------------- 0.2/9.3 MB 1.8 MB/s eta 0:00:06\n",
      "   - -------------------------------------- 0.5/9.3 MB 2.6 MB/s eta 0:00:04\n",
      "   -- ------------------------------------- 0.6/9.3 MB 2.7 MB/s eta 0:00:04\n",
      "   --- ------------------------------------ 0.8/9.3 MB 2.8 MB/s eta 0:00:04\n",
      "   ---- ----------------------------------- 1.0/9.3 MB 3.1 MB/s eta 0:00:03\n",
      "   ---- ----------------------------------- 1.1/9.3 MB 3.0 MB/s eta 0:00:03\n",
      "   ----- ---------------------------------- 1.3/9.3 MB 3.2 MB/s eta 0:00:03\n",
      "   ------ --------------------------------- 1.5/9.3 MB 3.2 MB/s eta 0:00:03\n",
      "   ------ --------------------------------- 1.5/9.3 MB 3.3 MB/s eta 0:00:03\n",
      "   ------- -------------------------------- 1.7/9.3 MB 3.2 MB/s eta 0:00:03\n",
      "   ------- -------------------------------- 1.8/9.3 MB 3.1 MB/s eta 0:00:03\n",
      "   -------- ------------------------------- 2.0/9.3 MB 3.2 MB/s eta 0:00:03\n",
      "   -------- ------------------------------- 2.0/9.3 MB 3.0 MB/s eta 0:00:03\n",
      "   --------- ------------------------------ 2.2/9.3 MB 3.2 MB/s eta 0:00:03\n",
      "   --------- ------------------------------ 2.3/9.3 MB 3.0 MB/s eta 0:00:03\n",
      "   ---------- ----------------------------- 2.5/9.3 MB 3.2 MB/s eta 0:00:03\n",
      "   ----------- ---------------------------- 2.6/9.3 MB 3.0 MB/s eta 0:00:03\n",
      "   ----------- ---------------------------- 2.8/9.3 MB 3.1 MB/s eta 0:00:03\n",
      "   ------------ --------------------------- 2.9/9.3 MB 3.0 MB/s eta 0:00:03\n",
      "   ------------- -------------------------- 3.0/9.3 MB 3.1 MB/s eta 0:00:03\n",
      "   ------------- -------------------------- 3.1/9.3 MB 3.1 MB/s eta 0:00:03\n",
      "   ------------- -------------------------- 3.1/9.3 MB 3.1 MB/s eta 0:00:03\n",
      "   ------------- -------------------------- 3.1/9.3 MB 3.1 MB/s eta 0:00:03\n",
      "   --------------- ------------------------ 3.6/9.3 MB 3.0 MB/s eta 0:00:02\n",
      "   ---------------- ----------------------- 3.8/9.3 MB 3.1 MB/s eta 0:00:02\n",
      "   ---------------- ----------------------- 4.0/9.3 MB 3.1 MB/s eta 0:00:02\n",
      "   ----------------- ---------------------- 4.1/9.3 MB 3.1 MB/s eta 0:00:02\n",
      "   ------------------ --------------------- 4.2/9.3 MB 3.1 MB/s eta 0:00:02\n",
      "   ------------------ --------------------- 4.4/9.3 MB 3.1 MB/s eta 0:00:02\n",
      "   ------------------- -------------------- 4.5/9.3 MB 3.1 MB/s eta 0:00:02\n",
      "   -------------------- ------------------- 4.8/9.3 MB 3.2 MB/s eta 0:00:02\n",
      "   -------------------- ------------------- 4.9/9.3 MB 3.2 MB/s eta 0:00:02\n",
      "   --------------------- ------------------ 5.1/9.3 MB 3.2 MB/s eta 0:00:02\n",
      "   ---------------------- ----------------- 5.3/9.3 MB 3.2 MB/s eta 0:00:02\n",
      "   ----------------------- ---------------- 5.4/9.3 MB 3.2 MB/s eta 0:00:02\n",
      "   ------------------------ --------------- 5.6/9.3 MB 3.2 MB/s eta 0:00:02\n",
      "   ------------------------ --------------- 5.8/9.3 MB 3.3 MB/s eta 0:00:02\n",
      "   ------------------------- -------------- 6.0/9.3 MB 3.3 MB/s eta 0:00:02\n",
      "   ------------------------- -------------- 6.1/9.3 MB 3.2 MB/s eta 0:00:02\n",
      "   -------------------------- ------------- 6.3/9.3 MB 3.3 MB/s eta 0:00:01\n",
      "   --------------------------- ------------ 6.4/9.3 MB 3.2 MB/s eta 0:00:01\n",
      "   ---------------------------- ----------- 6.6/9.3 MB 3.3 MB/s eta 0:00:01\n",
      "   ---------------------------- ----------- 6.8/9.3 MB 3.3 MB/s eta 0:00:01\n",
      "   ----------------------------- ---------- 6.9/9.3 MB 3.3 MB/s eta 0:00:01\n",
      "   ------------------------------ --------- 7.1/9.3 MB 3.3 MB/s eta 0:00:01\n",
      "   ------------------------------ --------- 7.2/9.3 MB 3.3 MB/s eta 0:00:01\n",
      "   ------------------------------- -------- 7.4/9.3 MB 3.3 MB/s eta 0:00:01\n",
      "   -------------------------------- ------- 7.6/9.3 MB 3.3 MB/s eta 0:00:01\n",
      "   --------------------------------- ------ 7.7/9.3 MB 3.3 MB/s eta 0:00:01\n",
      "   --------------------------------- ------ 7.9/9.3 MB 3.3 MB/s eta 0:00:01\n",
      "   ---------------------------------- ----- 8.1/9.3 MB 3.3 MB/s eta 0:00:01\n",
      "   ----------------------------------- ---- 8.3/9.3 MB 3.3 MB/s eta 0:00:01\n",
      "   ------------------------------------ --- 8.4/9.3 MB 3.3 MB/s eta 0:00:01\n",
      "   ------------------------------------- -- 8.7/9.3 MB 3.4 MB/s eta 0:00:01\n",
      "   ------------------------------------- -- 8.8/9.3 MB 3.4 MB/s eta 0:00:01\n",
      "   -------------------------------------- - 9.0/9.3 MB 3.4 MB/s eta 0:00:01\n",
      "   ---------------------------------------  9.2/9.3 MB 3.4 MB/s eta 0:00:01\n",
      "   ---------------------------------------  9.3/9.3 MB 3.4 MB/s eta 0:00:01\n",
      "   ---------------------------------------- 9.3/9.3 MB 3.4 MB/s eta 0:00:00\n",
      "Downloading huggingface_hub-0.23.4-py3-none-any.whl (402 kB)\n",
      "   ---------------------------------------- 0.0/402.6 kB ? eta -:--:--\n",
      "   ----------------------- --------------- 245.8/402.6 kB 14.7 MB/s eta 0:00:01\n",
      "   ------------------------------------ --- 368.6/402.6 kB 4.6 MB/s eta 0:00:01\n",
      "   ---------------------------------------- 402.6/402.6 kB 4.2 MB/s eta 0:00:00\n",
      "Downloading safetensors-0.4.3-cp311-none-win_amd64.whl (287 kB)\n",
      "   ---------------------------------------- 0.0/287.3 kB ? eta -:--:--\n",
      "   -------------------------------- ------- 235.5/287.3 kB 7.3 MB/s eta 0:00:01\n",
      "   ---------------------------------------- 287.3/287.3 kB 3.6 MB/s eta 0:00:00\n",
      "Downloading tokenizers-0.19.1-cp311-none-win_amd64.whl (2.2 MB)\n",
      "   ---------------------------------------- 0.0/2.2 MB ? eta -:--:--\n",
      "   ---- ----------------------------------- 0.2/2.2 MB 14.7 MB/s eta 0:00:01\n",
      "   ------- -------------------------------- 0.4/2.2 MB 4.8 MB/s eta 0:00:01\n",
      "   --------- ------------------------------ 0.5/2.2 MB 5.3 MB/s eta 0:00:01\n",
      "   ------------- -------------------------- 0.8/2.2 MB 4.3 MB/s eta 0:00:01\n",
      "   ---------------- ----------------------- 0.9/2.2 MB 4.1 MB/s eta 0:00:01\n",
      "   ------------------ --------------------- 1.0/2.2 MB 4.3 MB/s eta 0:00:01\n",
      "   ---------------------- ----------------- 1.2/2.2 MB 4.1 MB/s eta 0:00:01\n",
      "   ------------------------- -------------- 1.4/2.2 MB 3.9 MB/s eta 0:00:01\n",
      "   ---------------------------- ----------- 1.6/2.2 MB 4.0 MB/s eta 0:00:01\n",
      "   ------------------------------- -------- 1.8/2.2 MB 4.0 MB/s eta 0:00:01\n",
      "   ---------------------------------- ----- 1.9/2.2 MB 3.9 MB/s eta 0:00:01\n",
      "   ------------------------------------- -- 2.1/2.2 MB 3.9 MB/s eta 0:00:01\n",
      "   ---------------------------------------  2.2/2.2 MB 3.8 MB/s eta 0:00:01\n",
      "   ---------------------------------------- 2.2/2.2 MB 3.7 MB/s eta 0:00:00\n",
      "Installing collected packages: safetensors, huggingface-hub, tokenizers, transformers\n",
      "  Attempting uninstall: huggingface-hub\n",
      "    Found existing installation: huggingface-hub 0.19.4\n",
      "    Uninstalling huggingface-hub-0.19.4:\n",
      "      Successfully uninstalled huggingface-hub-0.19.4\n",
      "Successfully installed huggingface-hub-0.23.4 safetensors-0.4.3 tokenizers-0.19.1 transformers-4.42.4\n"
     ]
    },
    {
     "data": {
      "application/vnd.jupyter.widget-view+json": {
       "model_id": "672341f64e1c4b9e996728123b395c75",
       "version_major": 2,
       "version_minor": 0
      },
      "text/plain": [
       "config.json:   0%|          | 0.00/2.44k [00:00<?, ?B/s]"
      ]
     },
     "metadata": {},
     "output_type": "display_data"
    },
    {
     "data": {
      "application/vnd.jupyter.widget-view+json": {
       "model_id": "9817cbf680ca4d77a7207c64182de41f",
       "version_major": 2,
       "version_minor": 0
      },
      "text/plain": [
       "configuration_florence2.py:   0%|          | 0.00/15.1k [00:00<?, ?B/s]"
      ]
     },
     "metadata": {},
     "output_type": "display_data"
    },
    {
     "name": "stderr",
     "output_type": "stream",
     "text": [
      "A new version of the following files was downloaded from https://huggingface.co/microsoft/Florence-2-large:\n",
      "- configuration_florence2.py\n",
      ". Make sure to double-check they do not contain any added malicious code. To avoid downloading new versions of the code file, you can pin a revision.\n"
     ]
    },
    {
     "data": {
      "application/vnd.jupyter.widget-view+json": {
       "model_id": "2c920258ecc04c98a3bafbb8278a9a54",
       "version_major": 2,
       "version_minor": 0
      },
      "text/plain": [
       "modeling_florence2.py:   0%|          | 0.00/127k [00:00<?, ?B/s]"
      ]
     },
     "metadata": {},
     "output_type": "display_data"
    },
    {
     "ename": "ImportError",
     "evalue": "This modeling file requires the following packages that were not found in your environment: einops, flash_attn, timm. Run `pip install einops flash_attn timm`",
     "output_type": "error",
     "traceback": [
      "\u001b[1;31m---------------------------------------------------------------------------\u001b[0m",
      "\u001b[1;31mImportError\u001b[0m                               Traceback (most recent call last)",
      "Cell \u001b[1;32mIn[2], line 7\u001b[0m\n\u001b[0;32m      3\u001b[0m \u001b[38;5;28;01mfrom\u001b[39;00m \u001b[38;5;21;01mPIL\u001b[39;00m \u001b[38;5;28;01mimport\u001b[39;00m Image\n\u001b[0;32m      4\u001b[0m \u001b[38;5;28;01mfrom\u001b[39;00m \u001b[38;5;21;01mtransformers\u001b[39;00m \u001b[38;5;28;01mimport\u001b[39;00m AutoProcessor, AutoModelForCausalLM \n\u001b[1;32m----> 7\u001b[0m model \u001b[38;5;241m=\u001b[39m \u001b[43mAutoModelForCausalLM\u001b[49m\u001b[38;5;241;43m.\u001b[39;49m\u001b[43mfrom_pretrained\u001b[49m\u001b[43m(\u001b[49m\u001b[38;5;124;43m\"\u001b[39;49m\u001b[38;5;124;43mmicrosoft/Florence-2-large\u001b[39;49m\u001b[38;5;124;43m\"\u001b[39;49m\u001b[43m,\u001b[49m\u001b[43m \u001b[49m\u001b[43mtrust_remote_code\u001b[49m\u001b[38;5;241;43m=\u001b[39;49m\u001b[38;5;28;43;01mTrue\u001b[39;49;00m\u001b[43m)\u001b[49m\n\u001b[0;32m      8\u001b[0m processor \u001b[38;5;241m=\u001b[39m AutoProcessor\u001b[38;5;241m.\u001b[39mfrom_pretrained(\u001b[38;5;124m\"\u001b[39m\u001b[38;5;124mmicrosoft/Florence-2-large\u001b[39m\u001b[38;5;124m\"\u001b[39m, trust_remote_code\u001b[38;5;241m=\u001b[39m\u001b[38;5;28;01mTrue\u001b[39;00m)\n\u001b[0;32m     10\u001b[0m prompt \u001b[38;5;241m=\u001b[39m \u001b[38;5;124m\"\u001b[39m\u001b[38;5;124m<OD>\u001b[39m\u001b[38;5;124m\"\u001b[39m\n",
      "File \u001b[1;32m~\\AppData\\Local\\Programs\\Python\\Python311\\Lib\\site-packages\\transformers\\models\\auto\\auto_factory.py:551\u001b[0m, in \u001b[0;36m_BaseAutoModelClass.from_pretrained\u001b[1;34m(cls, pretrained_model_name_or_path, *model_args, **kwargs)\u001b[0m\n\u001b[0;32m    549\u001b[0m \u001b[38;5;28;01mif\u001b[39;00m has_remote_code \u001b[38;5;129;01mand\u001b[39;00m trust_remote_code:\n\u001b[0;32m    550\u001b[0m     class_ref \u001b[38;5;241m=\u001b[39m config\u001b[38;5;241m.\u001b[39mauto_map[\u001b[38;5;28mcls\u001b[39m\u001b[38;5;241m.\u001b[39m\u001b[38;5;18m__name__\u001b[39m]\n\u001b[1;32m--> 551\u001b[0m     model_class \u001b[38;5;241m=\u001b[39m \u001b[43mget_class_from_dynamic_module\u001b[49m\u001b[43m(\u001b[49m\n\u001b[0;32m    552\u001b[0m \u001b[43m        \u001b[49m\u001b[43mclass_ref\u001b[49m\u001b[43m,\u001b[49m\u001b[43m \u001b[49m\u001b[43mpretrained_model_name_or_path\u001b[49m\u001b[43m,\u001b[49m\u001b[43m \u001b[49m\u001b[43mcode_revision\u001b[49m\u001b[38;5;241;43m=\u001b[39;49m\u001b[43mcode_revision\u001b[49m\u001b[43m,\u001b[49m\u001b[43m \u001b[49m\u001b[38;5;241;43m*\u001b[39;49m\u001b[38;5;241;43m*\u001b[39;49m\u001b[43mhub_kwargs\u001b[49m\u001b[43m,\u001b[49m\u001b[43m \u001b[49m\u001b[38;5;241;43m*\u001b[39;49m\u001b[38;5;241;43m*\u001b[39;49m\u001b[43mkwargs\u001b[49m\n\u001b[0;32m    553\u001b[0m \u001b[43m    \u001b[49m\u001b[43m)\u001b[49m\n\u001b[0;32m    554\u001b[0m     _ \u001b[38;5;241m=\u001b[39m hub_kwargs\u001b[38;5;241m.\u001b[39mpop(\u001b[38;5;124m\"\u001b[39m\u001b[38;5;124mcode_revision\u001b[39m\u001b[38;5;124m\"\u001b[39m, \u001b[38;5;28;01mNone\u001b[39;00m)\n\u001b[0;32m    555\u001b[0m     \u001b[38;5;28;01mif\u001b[39;00m os\u001b[38;5;241m.\u001b[39mpath\u001b[38;5;241m.\u001b[39misdir(pretrained_model_name_or_path):\n",
      "File \u001b[1;32m~\\AppData\\Local\\Programs\\Python\\Python311\\Lib\\site-packages\\transformers\\dynamic_module_utils.py:502\u001b[0m, in \u001b[0;36mget_class_from_dynamic_module\u001b[1;34m(class_reference, pretrained_model_name_or_path, cache_dir, force_download, resume_download, proxies, token, revision, local_files_only, repo_type, code_revision, **kwargs)\u001b[0m\n\u001b[0;32m    500\u001b[0m     code_revision \u001b[38;5;241m=\u001b[39m revision\n\u001b[0;32m    501\u001b[0m \u001b[38;5;66;03m# And lastly we get the class inside our newly created module\u001b[39;00m\n\u001b[1;32m--> 502\u001b[0m final_module \u001b[38;5;241m=\u001b[39m \u001b[43mget_cached_module_file\u001b[49m\u001b[43m(\u001b[49m\n\u001b[0;32m    503\u001b[0m \u001b[43m    \u001b[49m\u001b[43mrepo_id\u001b[49m\u001b[43m,\u001b[49m\n\u001b[0;32m    504\u001b[0m \u001b[43m    \u001b[49m\u001b[43mmodule_file\u001b[49m\u001b[43m \u001b[49m\u001b[38;5;241;43m+\u001b[39;49m\u001b[43m \u001b[49m\u001b[38;5;124;43m\"\u001b[39;49m\u001b[38;5;124;43m.py\u001b[39;49m\u001b[38;5;124;43m\"\u001b[39;49m\u001b[43m,\u001b[49m\n\u001b[0;32m    505\u001b[0m \u001b[43m    \u001b[49m\u001b[43mcache_dir\u001b[49m\u001b[38;5;241;43m=\u001b[39;49m\u001b[43mcache_dir\u001b[49m\u001b[43m,\u001b[49m\n\u001b[0;32m    506\u001b[0m \u001b[43m    \u001b[49m\u001b[43mforce_download\u001b[49m\u001b[38;5;241;43m=\u001b[39;49m\u001b[43mforce_download\u001b[49m\u001b[43m,\u001b[49m\n\u001b[0;32m    507\u001b[0m \u001b[43m    \u001b[49m\u001b[43mresume_download\u001b[49m\u001b[38;5;241;43m=\u001b[39;49m\u001b[43mresume_download\u001b[49m\u001b[43m,\u001b[49m\n\u001b[0;32m    508\u001b[0m \u001b[43m    \u001b[49m\u001b[43mproxies\u001b[49m\u001b[38;5;241;43m=\u001b[39;49m\u001b[43mproxies\u001b[49m\u001b[43m,\u001b[49m\n\u001b[0;32m    509\u001b[0m \u001b[43m    \u001b[49m\u001b[43mtoken\u001b[49m\u001b[38;5;241;43m=\u001b[39;49m\u001b[43mtoken\u001b[49m\u001b[43m,\u001b[49m\n\u001b[0;32m    510\u001b[0m \u001b[43m    \u001b[49m\u001b[43mrevision\u001b[49m\u001b[38;5;241;43m=\u001b[39;49m\u001b[43mcode_revision\u001b[49m\u001b[43m,\u001b[49m\n\u001b[0;32m    511\u001b[0m \u001b[43m    \u001b[49m\u001b[43mlocal_files_only\u001b[49m\u001b[38;5;241;43m=\u001b[39;49m\u001b[43mlocal_files_only\u001b[49m\u001b[43m,\u001b[49m\n\u001b[0;32m    512\u001b[0m \u001b[43m    \u001b[49m\u001b[43mrepo_type\u001b[49m\u001b[38;5;241;43m=\u001b[39;49m\u001b[43mrepo_type\u001b[49m\u001b[43m,\u001b[49m\n\u001b[0;32m    513\u001b[0m \u001b[43m\u001b[49m\u001b[43m)\u001b[49m\n\u001b[0;32m    514\u001b[0m \u001b[38;5;28;01mreturn\u001b[39;00m get_class_in_module(class_name, final_module)\n",
      "File \u001b[1;32m~\\AppData\\Local\\Programs\\Python\\Python311\\Lib\\site-packages\\transformers\\dynamic_module_utils.py:327\u001b[0m, in \u001b[0;36mget_cached_module_file\u001b[1;34m(pretrained_model_name_or_path, module_file, cache_dir, force_download, resume_download, proxies, token, revision, local_files_only, repo_type, _commit_hash, **deprecated_kwargs)\u001b[0m\n\u001b[0;32m    324\u001b[0m     \u001b[38;5;28;01mraise\u001b[39;00m\n\u001b[0;32m    326\u001b[0m \u001b[38;5;66;03m# Check we have all the requirements in our environment\u001b[39;00m\n\u001b[1;32m--> 327\u001b[0m modules_needed \u001b[38;5;241m=\u001b[39m \u001b[43mcheck_imports\u001b[49m\u001b[43m(\u001b[49m\u001b[43mresolved_module_file\u001b[49m\u001b[43m)\u001b[49m\n\u001b[0;32m    329\u001b[0m \u001b[38;5;66;03m# Now we move the module inside our cached dynamic modules.\u001b[39;00m\n\u001b[0;32m    330\u001b[0m full_submodule \u001b[38;5;241m=\u001b[39m TRANSFORMERS_DYNAMIC_MODULE_NAME \u001b[38;5;241m+\u001b[39m os\u001b[38;5;241m.\u001b[39mpath\u001b[38;5;241m.\u001b[39msep \u001b[38;5;241m+\u001b[39m submodule\n",
      "File \u001b[1;32m~\\AppData\\Local\\Programs\\Python\\Python311\\Lib\\site-packages\\transformers\\dynamic_module_utils.py:182\u001b[0m, in \u001b[0;36mcheck_imports\u001b[1;34m(filename)\u001b[0m\n\u001b[0;32m    179\u001b[0m         missing_packages\u001b[38;5;241m.\u001b[39mappend(imp)\n\u001b[0;32m    181\u001b[0m \u001b[38;5;28;01mif\u001b[39;00m \u001b[38;5;28mlen\u001b[39m(missing_packages) \u001b[38;5;241m>\u001b[39m \u001b[38;5;241m0\u001b[39m:\n\u001b[1;32m--> 182\u001b[0m     \u001b[38;5;28;01mraise\u001b[39;00m \u001b[38;5;167;01mImportError\u001b[39;00m(\n\u001b[0;32m    183\u001b[0m         \u001b[38;5;124m\"\u001b[39m\u001b[38;5;124mThis modeling file requires the following packages that were not found in your environment: \u001b[39m\u001b[38;5;124m\"\u001b[39m\n\u001b[0;32m    184\u001b[0m         \u001b[38;5;124mf\u001b[39m\u001b[38;5;124m\"\u001b[39m\u001b[38;5;132;01m{\u001b[39;00m\u001b[38;5;124m'\u001b[39m\u001b[38;5;124m, \u001b[39m\u001b[38;5;124m'\u001b[39m\u001b[38;5;241m.\u001b[39mjoin(missing_packages)\u001b[38;5;132;01m}\u001b[39;00m\u001b[38;5;124m. Run `pip install \u001b[39m\u001b[38;5;132;01m{\u001b[39;00m\u001b[38;5;124m'\u001b[39m\u001b[38;5;124m \u001b[39m\u001b[38;5;124m'\u001b[39m\u001b[38;5;241m.\u001b[39mjoin(missing_packages)\u001b[38;5;132;01m}\u001b[39;00m\u001b[38;5;124m`\u001b[39m\u001b[38;5;124m\"\u001b[39m\n\u001b[0;32m    185\u001b[0m     )\n\u001b[0;32m    187\u001b[0m \u001b[38;5;28;01mreturn\u001b[39;00m get_relative_imports(filename)\n",
      "\u001b[1;31mImportError\u001b[0m: This modeling file requires the following packages that were not found in your environment: einops, flash_attn, timm. Run `pip install einops flash_attn timm`"
     ]
    }
   ],
   "source": [
    "import requests\n",
    "!pip install transformers\n",
    "from PIL import Image\n",
    "from transformers import AutoProcessor, AutoModelForCausalLM \n",
    "\n",
    "\n",
    "model = AutoModelForCausalLM.from_pretrained(\"microsoft/Florence-2-large\", trust_remote_code=True)\n",
    "processor = AutoProcessor.from_pretrained(\"microsoft/Florence-2-large\", trust_remote_code=True)\n",
    "\n",
    "prompt = \"<OD>\"\n",
    "\n",
    "url = \"https://huggingface.co/datasets/huggingface/documentation-images/resolve/main/transformers/tasks/car.jpg?download=true\"\n",
    "image = Image.open(requests.get(url, stream=True).raw)\n",
    "\n",
    "inputs = processor(text=prompt, images=image, return_tensors=\"pt\")\n",
    "\n",
    "generated_ids = model.generate(\n",
    "    input_ids=inputs[\"input_ids\"],\n",
    "    pixel_values=inputs[\"pixel_values\"],\n",
    "    max_new_tokens=1024,\n",
    "    num_beams=3,\n",
    "    do_sample=False\n",
    ")\n",
    "generated_text = processor.batch_decode(generated_ids, skip_special_tokens=False)[0]\n",
    "\n",
    "parsed_answer = processor.post_process_generation(generated_text, task=\"<OD>\", image_size=(image.width, image.height))\n",
    "\n",
    "print(parsed_answer)\n"
   ]
  },
  {
   "cell_type": "code",
   "execution_count": null,
   "id": "b0b1281a-f42f-48f0-a39c-caeaf14eb18f",
   "metadata": {},
   "outputs": [],
   "source": []
  }
 ],
 "metadata": {
  "kernelspec": {
   "display_name": "Python 3 (ipykernel)",
   "language": "python",
   "name": "python3"
  },
  "language_info": {
   "codemirror_mode": {
    "name": "ipython",
    "version": 3
   },
   "file_extension": ".py",
   "mimetype": "text/x-python",
   "name": "python",
   "nbconvert_exporter": "python",
   "pygments_lexer": "ipython3",
   "version": "3.11.5"
  }
 },
 "nbformat": 4,
 "nbformat_minor": 5
}
