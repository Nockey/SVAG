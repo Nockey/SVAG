{
 "cells": [
  {
   "cell_type": "code",
   "execution_count": 1,
   "id": "c8eb0e1c-c9df-496a-bdfc-941fd5952d44",
   "metadata": {
    "execution": {
     "iopub.execute_input": "2024-07-12T08:25:39.008686Z",
     "iopub.status.busy": "2024-07-12T08:25:39.008686Z",
     "iopub.status.idle": "2024-07-12T08:26:05.215341Z",
     "shell.execute_reply": "2024-07-12T08:26:05.214332Z",
     "shell.execute_reply.started": "2024-07-12T08:25:39.008686Z"
    }
   },
   "outputs": [],
   "source": [
    "from transformers import AutoProcessor, AutoModelForCausalLM  \n",
    "from PIL import Image\n",
    "import requests\n",
    "import copy\n",
    "%matplotlib inline  "
   ]
  },
  {
   "cell_type": "code",
   "execution_count": 2,
   "id": "ab69bc30-7694-473b-9409-a1778a1f233d",
   "metadata": {
    "execution": {
     "iopub.execute_input": "2024-07-12T08:26:05.226343Z",
     "iopub.status.busy": "2024-07-12T08:26:05.225342Z",
     "iopub.status.idle": "2024-07-12T08:26:29.600349Z",
     "shell.execute_reply": "2024-07-12T08:26:29.599341Z",
     "shell.execute_reply.started": "2024-07-12T08:26:05.226343Z"
    }
   },
   "outputs": [
    {
     "name": "stdout",
     "output_type": "stream",
     "text": [
      "Collecting flash_attn\n",
      "  Using cached flash_attn-2.6.0.post1.tar.gz (2.6 MB)\n",
      "  Preparing metadata (setup.py): started\n",
      "  Preparing metadata (setup.py): finished with status 'error'\n"
     ]
    },
    {
     "name": "stderr",
     "output_type": "stream",
     "text": [
      "  error: subprocess-exited-with-error\n",
      "  \n",
      "  python setup.py egg_info did not run successfully.\n",
      "  exit code: 1\n",
      "  \n",
      "  [22 lines of output]\n",
      "  fatal: not a git repository (or any of the parent directories): .git\n",
      "  C:\\Users\\Sivaranjani\\AppData\\Local\\Temp\\pip-install-cj10e8dy\\flash-attn_3651b9a0c31d40e38565f67351af1c74\\setup.py:78: UserWarning: flash_attn was requested, but nvcc was not found.  Are you sure your environment has nvcc available?  If you're installing within a container from https://hub.docker.com/r/pytorch/pytorch, only images whose names contain 'devel' will provide nvcc.\n",
      "    warnings.warn(\n",
      "  Traceback (most recent call last):\n",
      "    File \"<string>\", line 2, in <module>\n",
      "    File \"<pip-setuptools-caller>\", line 34, in <module>\n",
      "    File \"C:\\Users\\Sivaranjani\\AppData\\Local\\Temp\\pip-install-cj10e8dy\\flash-attn_3651b9a0c31d40e38565f67351af1c74\\setup.py\", line 134, in <module>\n",
      "      CUDAExtension(\n",
      "    File \"C:\\Users\\Sivaranjani\\AppData\\Local\\Programs\\Python\\Python311\\Lib\\site-packages\\torch\\utils\\cpp_extension.py\", line 1076, in CUDAExtension\n",
      "      library_dirs += library_paths(cuda=True)\n",
      "                      ^^^^^^^^^^^^^^^^^^^^^^^^\n",
      "    File \"C:\\Users\\Sivaranjani\\AppData\\Local\\Programs\\Python\\Python311\\Lib\\site-packages\\torch\\utils\\cpp_extension.py\", line 1210, in library_paths\n",
      "      paths.append(_join_cuda_home(lib_dir))\n",
      "                   ^^^^^^^^^^^^^^^^^^^^^^^^\n",
      "    File \"C:\\Users\\Sivaranjani\\AppData\\Local\\Programs\\Python\\Python311\\Lib\\site-packages\\torch\\utils\\cpp_extension.py\", line 2416, in _join_cuda_home\n",
      "      raise OSError('CUDA_HOME environment variable is not set. '\n",
      "  OSError: CUDA_HOME environment variable is not set. Please set it to your CUDA install root.\n",
      "  \n",
      "  \n",
      "  torch.__version__  = 2.1.1+cpu\n",
      "  \n",
      "  \n",
      "  [end of output]\n",
      "  \n",
      "  note: This error originates from a subprocess, and is likely not a problem with pip.\n",
      "error: metadata-generation-failed\n",
      "\n",
      "Encountered error while generating package metadata.\n",
      "\n",
      "See above for output.\n",
      "\n",
      "note: This is an issue with the package mentioned above, not pip.\n",
      "hint: See above for details.\n"
     ]
    }
   ],
   "source": [
    "!pip install flash_attn einops timm"
   ]
  },
  {
   "cell_type": "code",
   "execution_count": null,
   "id": "1bc67f25-1503-43d0-ac75-ea78bce53c12",
   "metadata": {},
   "outputs": [],
   "source": []
  }
 ],
 "metadata": {
  "kernelspec": {
   "display_name": "Python 3 (ipykernel)",
   "language": "python",
   "name": "python3"
  },
  "language_info": {
   "codemirror_mode": {
    "name": "ipython",
    "version": 3
   },
   "file_extension": ".py",
   "mimetype": "text/x-python",
   "name": "python",
   "nbconvert_exporter": "python",
   "pygments_lexer": "ipython3",
   "version": "3.11.5"
  }
 },
 "nbformat": 4,
 "nbformat_minor": 5
}
