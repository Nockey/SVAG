{
 "cells": [
  {
   "cell_type": "code",
   "execution_count": 1,
   "id": "94bd3fdd-fc29-46c5-b68c-79f615dffaa4",
   "metadata": {
    "execution": {
     "iopub.execute_input": "2024-07-13T04:14:36.265192Z",
     "iopub.status.busy": "2024-07-13T04:14:36.265192Z",
     "iopub.status.idle": "2024-07-13T04:14:36.522111Z",
     "shell.execute_reply": "2024-07-13T04:14:36.520101Z",
     "shell.execute_reply.started": "2024-07-13T04:14:36.265192Z"
    }
   },
   "outputs": [],
   "source": [
    "import requests"
   ]
  },
  {
   "cell_type": "code",
   "execution_count": null,
   "id": "4d22cade-2801-4245-b0c3-8ff920d08347",
   "metadata": {},
   "outputs": [],
   "source": [
    "\n",
    "\n",
    "api_key = 'curl -H \"Authorization: Bearer {token}\" -X {request_method} \"https://us-south.ml.cloud.ibm.com/{method_endpoint}\"'\n",
    "url = 'https://jp-tok.ml.cloud.ibm.com'\n",
    "assistant_id = 'YOUR_ASSISTANT_ID'\n",
    "\n",
    "headers = {\n",
    "    'Content-Type': 'application/json',\n",
    "    'Authorization': 'Bearer ' + api_key\n",
    "}\n",
    "\n",
    "def send_message_to_assistant(message):\n",
    "    data = {\n",
    "        'input': {\n",
    "            'text': message\n",
    "        }\n",
    "    }\n",
    "    response = requests.post(f'{url}/v2/assistants/{assistant_id}/sessions', headers=headers, json=data)\n",
    "    return response.json()\n",
    "\n",
    "# Example usage\n",
    "response = send_message_to_assistant('Hello, Watson!')\n",
    "print(response)"
   ]
  }
 ],
 "metadata": {
  "kernelspec": {
   "display_name": "Python 3 (ipykernel)",
   "language": "python",
   "name": "python3"
  },
  "language_info": {
   "codemirror_mode": {
    "name": "ipython",
    "version": 3
   },
   "file_extension": ".py",
   "mimetype": "text/x-python",
   "name": "python",
   "nbconvert_exporter": "python",
   "pygments_lexer": "ipython3",
   "version": "3.11.5"
  }
 },
 "nbformat": 4,
 "nbformat_minor": 5
}
