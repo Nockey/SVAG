{
 "cells": [
  {
   "cell_type": "code",
   "execution_count": 2,
   "id": "a3d899fb-08bb-4ace-a641-4eeb7fbfb967",
   "metadata": {
    "execution": {
     "iopub.execute_input": "2024-07-12T14:22:36.727316Z",
     "iopub.status.busy": "2024-07-12T14:22:36.725198Z",
     "iopub.status.idle": "2024-07-12T14:22:49.977684Z",
     "shell.execute_reply": "2024-07-12T14:22:49.973935Z",
     "shell.execute_reply.started": "2024-07-12T14:22:36.727316Z"
    }
   },
   "outputs": [
    {
     "name": "stdout",
     "output_type": "stream",
     "text": [
      "Requirement already satisfied: opencv-python-headless in c:\\users\\sivaranjani\\appdata\\roaming\\python\\python311\\site-packages (4.8.0.74)\n",
      "Requirement already satisfied: pillow in c:\\users\\sivaranjani\\appdata\\local\\programs\\python\\python311\\lib\\site-packages (10.0.1)\n",
      "Requirement already satisfied: transformers in c:\\users\\sivaranjani\\appdata\\local\\programs\\python\\python311\\lib\\site-packages (4.42.4)\n",
      "Requirement already satisfied: torch in c:\\users\\sivaranjani\\appdata\\local\\programs\\python\\python311\\lib\\site-packages (2.1.1)\n",
      "Requirement already satisfied: numpy>=1.21.2 in c:\\users\\sivaranjani\\appdata\\local\\programs\\python\\python311\\lib\\site-packages (from opencv-python-headless) (1.26.0)\n",
      "Requirement already satisfied: filelock in c:\\users\\sivaranjani\\appdata\\local\\programs\\python\\python311\\lib\\site-packages (from transformers) (3.13.1)\n",
      "Requirement already satisfied: huggingface-hub<1.0,>=0.23.2 in c:\\users\\sivaranjani\\appdata\\local\\programs\\python\\python311\\lib\\site-packages (from transformers) (0.23.4)\n",
      "Requirement already satisfied: packaging>=20.0 in c:\\users\\sivaranjani\\appdata\\local\\programs\\python\\python311\\lib\\site-packages (from transformers) (23.1)\n",
      "Requirement already satisfied: pyyaml>=5.1 in c:\\users\\sivaranjani\\appdata\\local\\programs\\python\\python311\\lib\\site-packages (from transformers) (6.0.1)\n",
      "Requirement already satisfied: regex!=2019.12.17 in c:\\users\\sivaranjani\\appdata\\local\\programs\\python\\python311\\lib\\site-packages (from transformers) (2024.5.15)\n",
      "Requirement already satisfied: requests in c:\\users\\sivaranjani\\appdata\\local\\programs\\python\\python311\\lib\\site-packages (from transformers) (2.31.0)\n",
      "Requirement already satisfied: safetensors>=0.4.1 in c:\\users\\sivaranjani\\appdata\\local\\programs\\python\\python311\\lib\\site-packages (from transformers) (0.4.3)\n",
      "Requirement already satisfied: tokenizers<0.20,>=0.19 in c:\\users\\sivaranjani\\appdata\\local\\programs\\python\\python311\\lib\\site-packages (from transformers) (0.19.1)\n",
      "Requirement already satisfied: tqdm>=4.27 in c:\\users\\sivaranjani\\appdata\\local\\programs\\python\\python311\\lib\\site-packages (from transformers) (4.66.1)\n",
      "Requirement already satisfied: typing-extensions in c:\\users\\sivaranjani\\appdata\\local\\programs\\python\\python311\\lib\\site-packages (from torch) (4.8.0)\n",
      "Requirement already satisfied: sympy in c:\\users\\sivaranjani\\appdata\\local\\programs\\python\\python311\\lib\\site-packages (from torch) (1.12)\n",
      "Requirement already satisfied: networkx in c:\\users\\sivaranjani\\appdata\\local\\programs\\python\\python311\\lib\\site-packages (from torch) (3.1)\n",
      "Requirement already satisfied: jinja2 in c:\\users\\sivaranjani\\appdata\\local\\programs\\python\\python311\\lib\\site-packages (from torch) (3.1.2)\n",
      "Requirement already satisfied: fsspec in c:\\users\\sivaranjani\\appdata\\local\\programs\\python\\python311\\lib\\site-packages (from torch) (2023.10.0)\n",
      "Requirement already satisfied: colorama in c:\\users\\sivaranjani\\appdata\\local\\programs\\python\\python311\\lib\\site-packages (from tqdm>=4.27->transformers) (0.4.6)\n",
      "Requirement already satisfied: MarkupSafe>=2.0 in c:\\users\\sivaranjani\\appdata\\local\\programs\\python\\python311\\lib\\site-packages (from jinja2->torch) (2.1.3)\n",
      "Requirement already satisfied: charset-normalizer<4,>=2 in c:\\users\\sivaranjani\\appdata\\local\\programs\\python\\python311\\lib\\site-packages (from requests->transformers) (3.2.0)\n",
      "Requirement already satisfied: idna<4,>=2.5 in c:\\users\\sivaranjani\\appdata\\roaming\\python\\python311\\site-packages (from requests->transformers) (2.10)\n",
      "Requirement already satisfied: urllib3<3,>=1.21.1 in c:\\users\\sivaranjani\\appdata\\local\\programs\\python\\python311\\lib\\site-packages (from requests->transformers) (2.0.5)\n",
      "Requirement already satisfied: certifi>=2017.4.17 in c:\\users\\sivaranjani\\appdata\\local\\programs\\python\\python311\\lib\\site-packages (from requests->transformers) (2023.7.22)\n",
      "Requirement already satisfied: mpmath>=0.19 in c:\\users\\sivaranjani\\appdata\\local\\programs\\python\\python311\\lib\\site-packages (from sympy->torch) (1.3.0)\n"
     ]
    }
   ],
   "source": [
    "\n",
    "!pip install opencv-python-headless pillow transformers torch"
   ]
  },
  {
   "cell_type": "code",
   "execution_count": 3,
   "id": "2e2ceb32-4316-4c2b-a848-07dafbb105bc",
   "metadata": {
    "execution": {
     "iopub.execute_input": "2024-07-12T14:24:10.669526Z",
     "iopub.status.busy": "2024-07-12T14:24:10.668526Z",
     "iopub.status.idle": "2024-07-12T14:24:10.673148Z",
     "shell.execute_reply": "2024-07-12T14:24:10.673148Z",
     "shell.execute_reply.started": "2024-07-12T14:24:10.669526Z"
    }
   },
   "outputs": [],
   "source": [
    "import cv2\n",
    "from PIL import Image as PILImage\n",
    "import numpy as np\n",
    "from transformers import pipeline, AutoProcessor, AutoModelForCausalLM"
   ]
  },
  {
   "cell_type": "code",
   "execution_count": 6,
   "id": "58124500-64d0-403a-88b3-975359cac1b9",
   "metadata": {
    "execution": {
     "iopub.execute_input": "2024-07-12T14:29:46.824066Z",
     "iopub.status.busy": "2024-07-12T14:29:46.824066Z",
     "iopub.status.idle": "2024-07-12T14:30:00.160245Z",
     "shell.execute_reply": "2024-07-12T14:30:00.160245Z",
     "shell.execute_reply.started": "2024-07-12T14:29:46.824066Z"
    }
   },
   "outputs": [
    {
     "name": "stdout",
     "output_type": "stream",
     "text": [
      "Collecting timm\n",
      "  Using cached timm-1.0.7-py3-none-any.whl.metadata (47 kB)\n",
      "Collecting einops\n",
      "  Using cached einops-0.8.0-py3-none-any.whl.metadata (12 kB)\n",
      "Requirement already satisfied: torch in c:\\users\\sivaranjani\\appdata\\local\\programs\\python\\python311\\lib\\site-packages (from timm) (2.1.1)\n",
      "Requirement already satisfied: torchvision in c:\\users\\sivaranjani\\appdata\\local\\programs\\python\\python311\\lib\\site-packages (from timm) (0.16.1)\n",
      "Requirement already satisfied: pyyaml in c:\\users\\sivaranjani\\appdata\\local\\programs\\python\\python311\\lib\\site-packages (from timm) (6.0.1)\n",
      "Requirement already satisfied: huggingface_hub in c:\\users\\sivaranjani\\appdata\\local\\programs\\python\\python311\\lib\\site-packages (from timm) (0.23.4)\n",
      "Requirement already satisfied: safetensors in c:\\users\\sivaranjani\\appdata\\local\\programs\\python\\python311\\lib\\site-packages (from timm) (0.4.3)\n",
      "Requirement already satisfied: filelock in c:\\users\\sivaranjani\\appdata\\local\\programs\\python\\python311\\lib\\site-packages (from huggingface_hub->timm) (3.13.1)\n",
      "Requirement already satisfied: fsspec>=2023.5.0 in c:\\users\\sivaranjani\\appdata\\local\\programs\\python\\python311\\lib\\site-packages (from huggingface_hub->timm) (2023.10.0)\n",
      "Requirement already satisfied: packaging>=20.9 in c:\\users\\sivaranjani\\appdata\\local\\programs\\python\\python311\\lib\\site-packages (from huggingface_hub->timm) (23.1)\n",
      "Requirement already satisfied: requests in c:\\users\\sivaranjani\\appdata\\local\\programs\\python\\python311\\lib\\site-packages (from huggingface_hub->timm) (2.31.0)\n",
      "Requirement already satisfied: tqdm>=4.42.1 in c:\\users\\sivaranjani\\appdata\\local\\programs\\python\\python311\\lib\\site-packages (from huggingface_hub->timm) (4.66.1)\n",
      "Requirement already satisfied: typing-extensions>=3.7.4.3 in c:\\users\\sivaranjani\\appdata\\local\\programs\\python\\python311\\lib\\site-packages (from huggingface_hub->timm) (4.8.0)\n",
      "Requirement already satisfied: sympy in c:\\users\\sivaranjani\\appdata\\local\\programs\\python\\python311\\lib\\site-packages (from torch->timm) (1.12)\n",
      "Requirement already satisfied: networkx in c:\\users\\sivaranjani\\appdata\\local\\programs\\python\\python311\\lib\\site-packages (from torch->timm) (3.1)\n",
      "Requirement already satisfied: jinja2 in c:\\users\\sivaranjani\\appdata\\local\\programs\\python\\python311\\lib\\site-packages (from torch->timm) (3.1.2)\n",
      "Requirement already satisfied: numpy in c:\\users\\sivaranjani\\appdata\\local\\programs\\python\\python311\\lib\\site-packages (from torchvision->timm) (1.26.0)\n",
      "Requirement already satisfied: pillow!=8.3.*,>=5.3.0 in c:\\users\\sivaranjani\\appdata\\local\\programs\\python\\python311\\lib\\site-packages (from torchvision->timm) (10.0.1)\n",
      "Requirement already satisfied: colorama in c:\\users\\sivaranjani\\appdata\\local\\programs\\python\\python311\\lib\\site-packages (from tqdm>=4.42.1->huggingface_hub->timm) (0.4.6)\n",
      "Requirement already satisfied: MarkupSafe>=2.0 in c:\\users\\sivaranjani\\appdata\\local\\programs\\python\\python311\\lib\\site-packages (from jinja2->torch->timm) (2.1.3)\n",
      "Requirement already satisfied: charset-normalizer<4,>=2 in c:\\users\\sivaranjani\\appdata\\local\\programs\\python\\python311\\lib\\site-packages (from requests->huggingface_hub->timm) (3.2.0)\n",
      "Requirement already satisfied: idna<4,>=2.5 in c:\\users\\sivaranjani\\appdata\\roaming\\python\\python311\\site-packages (from requests->huggingface_hub->timm) (2.10)\n",
      "Requirement already satisfied: urllib3<3,>=1.21.1 in c:\\users\\sivaranjani\\appdata\\local\\programs\\python\\python311\\lib\\site-packages (from requests->huggingface_hub->timm) (2.0.5)\n",
      "Requirement already satisfied: certifi>=2017.4.17 in c:\\users\\sivaranjani\\appdata\\local\\programs\\python\\python311\\lib\\site-packages (from requests->huggingface_hub->timm) (2023.7.22)\n",
      "Requirement already satisfied: mpmath>=0.19 in c:\\users\\sivaranjani\\appdata\\local\\programs\\python\\python311\\lib\\site-packages (from sympy->torch->timm) (1.3.0)\n",
      "Downloading timm-1.0.7-py3-none-any.whl (2.3 MB)\n",
      "   ---------------------------------------- 0.0/2.3 MB ? eta -:--:--\n",
      "   ---------------------------------------- 0.0/2.3 MB ? eta -:--:--\n",
      "    --------------------------------------- 0.0/2.3 MB 435.7 kB/s eta 0:00:06\n",
      "    --------------------------------------- 0.0/2.3 MB 435.7 kB/s eta 0:00:06\n",
      "    --------------------------------------- 0.0/2.3 MB 435.7 kB/s eta 0:00:06\n",
      "    --------------------------------------- 0.0/2.3 MB 435.7 kB/s eta 0:00:06\n",
      "    --------------------------------------- 0.0/2.3 MB 435.7 kB/s eta 0:00:06\n",
      "    --------------------------------------- 0.0/2.3 MB 435.7 kB/s eta 0:00:06\n",
      "    --------------------------------------- 0.0/2.3 MB 93.7 kB/s eta 0:00:25\n",
      "   - -------------------------------------- 0.1/2.3 MB 136.5 kB/s eta 0:00:17\n",
      "   - -------------------------------------- 0.1/2.3 MB 194.1 kB/s eta 0:00:12\n",
      "   - -------------------------------------- 0.1/2.3 MB 226.0 kB/s eta 0:00:10\n",
      "   - -------------------------------------- 0.1/2.3 MB 226.0 kB/s eta 0:00:10\n",
      "   - -------------------------------------- 0.1/2.3 MB 226.0 kB/s eta 0:00:10\n",
      "   -- ------------------------------------- 0.1/2.3 MB 185.0 kB/s eta 0:00:12\n",
      "   ---- ----------------------------------- 0.3/2.3 MB 421.5 kB/s eta 0:00:05\n",
      "   ------ --------------------------------- 0.4/2.3 MB 538.9 kB/s eta 0:00:04\n",
      "   -------- ------------------------------- 0.5/2.3 MB 614.4 kB/s eta 0:00:03\n",
      "   --------- ------------------------------ 0.5/2.3 MB 655.3 kB/s eta 0:00:03\n",
      "   ---------- ----------------------------- 0.6/2.3 MB 717.3 kB/s eta 0:00:03\n",
      "   ----------- ---------------------------- 0.6/2.3 MB 725.6 kB/s eta 0:00:03\n",
      "   ------------ --------------------------- 0.7/2.3 MB 766.3 kB/s eta 0:00:03\n",
      "   ------------- -------------------------- 0.8/2.3 MB 801.3 kB/s eta 0:00:02\n",
      "   --------------- ------------------------ 0.9/2.3 MB 856.7 kB/s eta 0:00:02\n",
      "   ---------------- ----------------------- 0.9/2.3 MB 877.4 kB/s eta 0:00:02\n",
      "   ----------------- ---------------------- 1.0/2.3 MB 904.9 kB/s eta 0:00:02\n",
      "   ----------------- ---------------------- 1.0/2.3 MB 904.9 kB/s eta 0:00:02\n",
      "   ------------------ --------------------- 1.0/2.3 MB 871.3 kB/s eta 0:00:02\n",
      "   ------------------- -------------------- 1.1/2.3 MB 876.5 kB/s eta 0:00:02\n",
      "   -------------------- ------------------- 1.2/2.3 MB 895.3 kB/s eta 0:00:02\n",
      "   -------------------- ------------------- 1.2/2.3 MB 895.3 kB/s eta 0:00:02\n",
      "   -------------------- ------------------- 1.2/2.3 MB 895.3 kB/s eta 0:00:02\n",
      "   -------------------- ------------------- 1.2/2.3 MB 839.2 kB/s eta 0:00:02\n",
      "   -------------------- ------------------- 1.2/2.3 MB 793.5 kB/s eta 0:00:02\n",
      "   --------------------- ------------------ 1.2/2.3 MB 797.0 kB/s eta 0:00:02\n",
      "   ---------------------- ----------------- 1.3/2.3 MB 806.4 kB/s eta 0:00:02\n",
      "   ----------------------- ---------------- 1.4/2.3 MB 838.1 kB/s eta 0:00:02\n",
      "   ------------------------- -------------- 1.5/2.3 MB 871.9 kB/s eta 0:00:01\n",
      "   -------------------------- ------------- 1.5/2.3 MB 886.2 kB/s eta 0:00:01\n",
      "   -------------------------- ------------- 1.5/2.3 MB 871.9 kB/s eta 0:00:01\n",
      "   --------------------------- ------------ 1.6/2.3 MB 877.6 kB/s eta 0:00:01\n",
      "   --------------------------- ------------ 1.6/2.3 MB 860.7 kB/s eta 0:00:01\n",
      "   ---------------------------- ----------- 1.6/2.3 MB 866.4 kB/s eta 0:00:01\n",
      "   ----------------------------- ---------- 1.7/2.3 MB 877.6 kB/s eta 0:00:01\n",
      "   ------------------------------ --------- 1.7/2.3 MB 867.1 kB/s eta 0:00:01\n",
      "   ------------------------------- -------- 1.8/2.3 MB 877.3 kB/s eta 0:00:01\n",
      "   --------------------------------- ------ 1.9/2.3 MB 921.5 kB/s eta 0:00:01\n",
      "   ---------------------------------- ----- 2.0/2.3 MB 934.9 kB/s eta 0:00:01\n",
      "   ------------------------------------- -- 2.2/2.3 MB 990.1 kB/s eta 0:00:01\n",
      "   -------------------------------------- - 2.2/2.3 MB 987.5 kB/s eta 0:00:01\n",
      "   ---------------------------------------- 2.3/2.3 MB 1.0 MB/s eta 0:00:00\n",
      "Downloading einops-0.8.0-py3-none-any.whl (43 kB)\n",
      "   ---------------------------------------- 0.0/43.2 kB ? eta -:--:--\n",
      "   ---------------------------------------- 43.2/43.2 kB ? eta 0:00:00\n",
      "Installing collected packages: einops, timm\n",
      "Successfully installed einops-0.8.0 timm-1.0.7\n"
     ]
    }
   ],
   "source": [
    "!pip install  timm einops"
   ]
  },
  {
   "cell_type": "code",
   "execution_count": 7,
   "id": "62f57a9a-9a08-4bca-9039-96b43690d0a1",
   "metadata": {
    "execution": {
     "iopub.execute_input": "2024-07-12T14:30:05.438469Z",
     "iopub.status.busy": "2024-07-12T14:30:05.438469Z",
     "iopub.status.idle": "2024-07-12T14:30:13.793443Z",
     "shell.execute_reply": "2024-07-12T14:30:13.792434Z",
     "shell.execute_reply.started": "2024-07-12T14:30:05.438469Z"
    }
   },
   "outputs": [
    {
     "ename": "ImportError",
     "evalue": "This modeling file requires the following packages that were not found in your environment: flash_attn. Run `pip install flash_attn`",
     "output_type": "error",
     "traceback": [
      "\u001b[1;31m---------------------------------------------------------------------------\u001b[0m",
      "\u001b[1;31mImportError\u001b[0m                               Traceback (most recent call last)",
      "Cell \u001b[1;32mIn[7], line 6\u001b[0m\n\u001b[0;32m      4\u001b[0m \u001b[38;5;66;03m# Initialize Florence model for OCR\u001b[39;00m\n\u001b[0;32m      5\u001b[0m model_id \u001b[38;5;241m=\u001b[39m \u001b[38;5;124m'\u001b[39m\u001b[38;5;124mmicrosoft/Florence-2-large\u001b[39m\u001b[38;5;124m'\u001b[39m\n\u001b[1;32m----> 6\u001b[0m model \u001b[38;5;241m=\u001b[39m \u001b[43mAutoModelForCausalLM\u001b[49m\u001b[38;5;241;43m.\u001b[39;49m\u001b[43mfrom_pretrained\u001b[49m\u001b[43m(\u001b[49m\u001b[43mmodel_id\u001b[49m\u001b[43m,\u001b[49m\u001b[43m \u001b[49m\u001b[43mtrust_remote_code\u001b[49m\u001b[38;5;241;43m=\u001b[39;49m\u001b[38;5;28;43;01mTrue\u001b[39;49;00m\u001b[43m)\u001b[49m\u001b[38;5;241m.\u001b[39meval()\u001b[38;5;241m.\u001b[39mcuda()\n\u001b[0;32m      7\u001b[0m processor \u001b[38;5;241m=\u001b[39m AutoProcessor\u001b[38;5;241m.\u001b[39mfrom_pretrained(model_id, trust_remote_code\u001b[38;5;241m=\u001b[39m\u001b[38;5;28;01mTrue\u001b[39;00m)\n\u001b[0;32m      9\u001b[0m \u001b[38;5;28;01mdef\u001b[39;00m \u001b[38;5;21mrun_ocr\u001b[39m(image):\n",
      "File \u001b[1;32m~\\AppData\\Local\\Programs\\Python\\Python311\\Lib\\site-packages\\transformers\\models\\auto\\auto_factory.py:551\u001b[0m, in \u001b[0;36m_BaseAutoModelClass.from_pretrained\u001b[1;34m(cls, pretrained_model_name_or_path, *model_args, **kwargs)\u001b[0m\n\u001b[0;32m    549\u001b[0m \u001b[38;5;28;01mif\u001b[39;00m has_remote_code \u001b[38;5;129;01mand\u001b[39;00m trust_remote_code:\n\u001b[0;32m    550\u001b[0m     class_ref \u001b[38;5;241m=\u001b[39m config\u001b[38;5;241m.\u001b[39mauto_map[\u001b[38;5;28mcls\u001b[39m\u001b[38;5;241m.\u001b[39m\u001b[38;5;18m__name__\u001b[39m]\n\u001b[1;32m--> 551\u001b[0m     model_class \u001b[38;5;241m=\u001b[39m \u001b[43mget_class_from_dynamic_module\u001b[49m\u001b[43m(\u001b[49m\n\u001b[0;32m    552\u001b[0m \u001b[43m        \u001b[49m\u001b[43mclass_ref\u001b[49m\u001b[43m,\u001b[49m\u001b[43m \u001b[49m\u001b[43mpretrained_model_name_or_path\u001b[49m\u001b[43m,\u001b[49m\u001b[43m \u001b[49m\u001b[43mcode_revision\u001b[49m\u001b[38;5;241;43m=\u001b[39;49m\u001b[43mcode_revision\u001b[49m\u001b[43m,\u001b[49m\u001b[43m \u001b[49m\u001b[38;5;241;43m*\u001b[39;49m\u001b[38;5;241;43m*\u001b[39;49m\u001b[43mhub_kwargs\u001b[49m\u001b[43m,\u001b[49m\u001b[43m \u001b[49m\u001b[38;5;241;43m*\u001b[39;49m\u001b[38;5;241;43m*\u001b[39;49m\u001b[43mkwargs\u001b[49m\n\u001b[0;32m    553\u001b[0m \u001b[43m    \u001b[49m\u001b[43m)\u001b[49m\n\u001b[0;32m    554\u001b[0m     _ \u001b[38;5;241m=\u001b[39m hub_kwargs\u001b[38;5;241m.\u001b[39mpop(\u001b[38;5;124m\"\u001b[39m\u001b[38;5;124mcode_revision\u001b[39m\u001b[38;5;124m\"\u001b[39m, \u001b[38;5;28;01mNone\u001b[39;00m)\n\u001b[0;32m    555\u001b[0m     \u001b[38;5;28;01mif\u001b[39;00m os\u001b[38;5;241m.\u001b[39mpath\u001b[38;5;241m.\u001b[39misdir(pretrained_model_name_or_path):\n",
      "File \u001b[1;32m~\\AppData\\Local\\Programs\\Python\\Python311\\Lib\\site-packages\\transformers\\dynamic_module_utils.py:502\u001b[0m, in \u001b[0;36mget_class_from_dynamic_module\u001b[1;34m(class_reference, pretrained_model_name_or_path, cache_dir, force_download, resume_download, proxies, token, revision, local_files_only, repo_type, code_revision, **kwargs)\u001b[0m\n\u001b[0;32m    500\u001b[0m     code_revision \u001b[38;5;241m=\u001b[39m revision\n\u001b[0;32m    501\u001b[0m \u001b[38;5;66;03m# And lastly we get the class inside our newly created module\u001b[39;00m\n\u001b[1;32m--> 502\u001b[0m final_module \u001b[38;5;241m=\u001b[39m \u001b[43mget_cached_module_file\u001b[49m\u001b[43m(\u001b[49m\n\u001b[0;32m    503\u001b[0m \u001b[43m    \u001b[49m\u001b[43mrepo_id\u001b[49m\u001b[43m,\u001b[49m\n\u001b[0;32m    504\u001b[0m \u001b[43m    \u001b[49m\u001b[43mmodule_file\u001b[49m\u001b[43m \u001b[49m\u001b[38;5;241;43m+\u001b[39;49m\u001b[43m \u001b[49m\u001b[38;5;124;43m\"\u001b[39;49m\u001b[38;5;124;43m.py\u001b[39;49m\u001b[38;5;124;43m\"\u001b[39;49m\u001b[43m,\u001b[49m\n\u001b[0;32m    505\u001b[0m \u001b[43m    \u001b[49m\u001b[43mcache_dir\u001b[49m\u001b[38;5;241;43m=\u001b[39;49m\u001b[43mcache_dir\u001b[49m\u001b[43m,\u001b[49m\n\u001b[0;32m    506\u001b[0m \u001b[43m    \u001b[49m\u001b[43mforce_download\u001b[49m\u001b[38;5;241;43m=\u001b[39;49m\u001b[43mforce_download\u001b[49m\u001b[43m,\u001b[49m\n\u001b[0;32m    507\u001b[0m \u001b[43m    \u001b[49m\u001b[43mresume_download\u001b[49m\u001b[38;5;241;43m=\u001b[39;49m\u001b[43mresume_download\u001b[49m\u001b[43m,\u001b[49m\n\u001b[0;32m    508\u001b[0m \u001b[43m    \u001b[49m\u001b[43mproxies\u001b[49m\u001b[38;5;241;43m=\u001b[39;49m\u001b[43mproxies\u001b[49m\u001b[43m,\u001b[49m\n\u001b[0;32m    509\u001b[0m \u001b[43m    \u001b[49m\u001b[43mtoken\u001b[49m\u001b[38;5;241;43m=\u001b[39;49m\u001b[43mtoken\u001b[49m\u001b[43m,\u001b[49m\n\u001b[0;32m    510\u001b[0m \u001b[43m    \u001b[49m\u001b[43mrevision\u001b[49m\u001b[38;5;241;43m=\u001b[39;49m\u001b[43mcode_revision\u001b[49m\u001b[43m,\u001b[49m\n\u001b[0;32m    511\u001b[0m \u001b[43m    \u001b[49m\u001b[43mlocal_files_only\u001b[49m\u001b[38;5;241;43m=\u001b[39;49m\u001b[43mlocal_files_only\u001b[49m\u001b[43m,\u001b[49m\n\u001b[0;32m    512\u001b[0m \u001b[43m    \u001b[49m\u001b[43mrepo_type\u001b[49m\u001b[38;5;241;43m=\u001b[39;49m\u001b[43mrepo_type\u001b[49m\u001b[43m,\u001b[49m\n\u001b[0;32m    513\u001b[0m \u001b[43m\u001b[49m\u001b[43m)\u001b[49m\n\u001b[0;32m    514\u001b[0m \u001b[38;5;28;01mreturn\u001b[39;00m get_class_in_module(class_name, final_module)\n",
      "File \u001b[1;32m~\\AppData\\Local\\Programs\\Python\\Python311\\Lib\\site-packages\\transformers\\dynamic_module_utils.py:327\u001b[0m, in \u001b[0;36mget_cached_module_file\u001b[1;34m(pretrained_model_name_or_path, module_file, cache_dir, force_download, resume_download, proxies, token, revision, local_files_only, repo_type, _commit_hash, **deprecated_kwargs)\u001b[0m\n\u001b[0;32m    324\u001b[0m     \u001b[38;5;28;01mraise\u001b[39;00m\n\u001b[0;32m    326\u001b[0m \u001b[38;5;66;03m# Check we have all the requirements in our environment\u001b[39;00m\n\u001b[1;32m--> 327\u001b[0m modules_needed \u001b[38;5;241m=\u001b[39m \u001b[43mcheck_imports\u001b[49m\u001b[43m(\u001b[49m\u001b[43mresolved_module_file\u001b[49m\u001b[43m)\u001b[49m\n\u001b[0;32m    329\u001b[0m \u001b[38;5;66;03m# Now we move the module inside our cached dynamic modules.\u001b[39;00m\n\u001b[0;32m    330\u001b[0m full_submodule \u001b[38;5;241m=\u001b[39m TRANSFORMERS_DYNAMIC_MODULE_NAME \u001b[38;5;241m+\u001b[39m os\u001b[38;5;241m.\u001b[39mpath\u001b[38;5;241m.\u001b[39msep \u001b[38;5;241m+\u001b[39m submodule\n",
      "File \u001b[1;32m~\\AppData\\Local\\Programs\\Python\\Python311\\Lib\\site-packages\\transformers\\dynamic_module_utils.py:182\u001b[0m, in \u001b[0;36mcheck_imports\u001b[1;34m(filename)\u001b[0m\n\u001b[0;32m    179\u001b[0m         missing_packages\u001b[38;5;241m.\u001b[39mappend(imp)\n\u001b[0;32m    181\u001b[0m \u001b[38;5;28;01mif\u001b[39;00m \u001b[38;5;28mlen\u001b[39m(missing_packages) \u001b[38;5;241m>\u001b[39m \u001b[38;5;241m0\u001b[39m:\n\u001b[1;32m--> 182\u001b[0m     \u001b[38;5;28;01mraise\u001b[39;00m \u001b[38;5;167;01mImportError\u001b[39;00m(\n\u001b[0;32m    183\u001b[0m         \u001b[38;5;124m\"\u001b[39m\u001b[38;5;124mThis modeling file requires the following packages that were not found in your environment: \u001b[39m\u001b[38;5;124m\"\u001b[39m\n\u001b[0;32m    184\u001b[0m         \u001b[38;5;124mf\u001b[39m\u001b[38;5;124m\"\u001b[39m\u001b[38;5;132;01m{\u001b[39;00m\u001b[38;5;124m'\u001b[39m\u001b[38;5;124m, \u001b[39m\u001b[38;5;124m'\u001b[39m\u001b[38;5;241m.\u001b[39mjoin(missing_packages)\u001b[38;5;132;01m}\u001b[39;00m\u001b[38;5;124m. Run `pip install \u001b[39m\u001b[38;5;132;01m{\u001b[39;00m\u001b[38;5;124m'\u001b[39m\u001b[38;5;124m \u001b[39m\u001b[38;5;124m'\u001b[39m\u001b[38;5;241m.\u001b[39mjoin(missing_packages)\u001b[38;5;132;01m}\u001b[39;00m\u001b[38;5;124m`\u001b[39m\u001b[38;5;124m\"\u001b[39m\n\u001b[0;32m    185\u001b[0m     )\n\u001b[0;32m    187\u001b[0m \u001b[38;5;28;01mreturn\u001b[39;00m get_relative_imports(filename)\n",
      "\u001b[1;31mImportError\u001b[0m: This modeling file requires the following packages that were not found in your environment: flash_attn. Run `pip install flash_attn`"
     ]
    }
   ],
   "source": [
    "\n",
    "\n",
    "# Initialize the webcam\n",
    "cap = cv2.VideoCapture(0)\n",
    "\n",
    "# Initialize Florence model for OCR\n",
    "model_id = 'microsoft/Florence-2-large'\n",
    "model = AutoModelForCausalLM.from_pretrained(model_id, trust_remote_code=True).eval().cuda()\n",
    "processor = AutoProcessor.from_pretrained(model_id, trust_remote_code=True)\n",
    "\n",
    "def run_ocr(image):\n",
    "    task_prompt = '<OCR>'\n",
    "    inputs = processor(text=task_prompt, images=image, return_tensors=\"pt\")\n",
    "    generated_ids = model.generate(\n",
    "        input_ids=inputs[\"input_ids\"].cuda(),\n",
    "        pixel_values=inputs[\"pixel_values\"].cuda(),\n",
    "        max_new_tokens=1024,\n",
    "        early_stopping=False,\n",
    "        do_sample=False,\n",
    "        num_beams=3,\n",
    "    )\n",
    "    generated_text = processor.batch_decode(generated_ids, skip_special_tokens=False)[0]\n",
    "    parsed_answer = processor.post_process_generation(\n",
    "        generated_text, \n",
    "        task=task_prompt, \n",
    "        image_size=(image.width, image.height)\n",
    "    )\n",
    "    return parsed_answer\n",
    "\n",
    "# Initialize summarization model\n",
    "summarizer = pipeline(\"summarization\", model=\"facebook/bart-large-cnn\")\n",
    "\n",
    "while True:\n",
    "    ret, frame = cap.read()\n",
    "    \n",
    "    # Check if frame was captured successfully\n",
    "    if not ret:\n",
    "        break\n",
    "\n",
    "    # Convert the frame to RGB\n",
    "    rgb_frame = cv2.cvtColor(frame, cv2.COLOR_BGR2RGB)\n",
    "\n",
    "    # Convert to PIL image\n",
    "    image = PILImage.fromarray(rgb_frame)\n",
    "    \n",
    "    # Perform OCR on the frame\n",
    "    ocr_result = run_ocr(image)\n",
    "    extracted_text = ocr_result['<OCR>']\n",
    "    print(\"Extracted Text:\", extracted_text)\n",
    "\n",
    "    # Summarize the extracted text\n",
    "    summary = summarizer(extracted_text, max_length=150, min_length=50, do_sample=False)[0]['summary_text']\n",
    "    print(\"Summary:\", summary)\n",
    "\n",
    "    # Display the frame\n",
    "    cv2.imshow('Webcam', frame)\n",
    "    \n",
    "    # Exit the loop if 'q' is pressed\n",
    "    if cv2.waitKey(1) & 0xFF == ord('q'):\n",
    "        break\n",
    "\n",
    "# Release the webcam and close the window\n",
    "cap.release()\n",
    "cv2.destroyAllWindows()\n"
   ]
  },
  {
   "cell_type": "code",
   "execution_count": 8,
   "id": "b3fa5c51-c864-4377-a6f1-89eda3e17434",
   "metadata": {
    "execution": {
     "iopub.execute_input": "2024-07-12T14:31:23.086706Z",
     "iopub.status.busy": "2024-07-12T14:31:23.085707Z",
     "iopub.status.idle": "2024-07-12T14:31:33.317392Z",
     "shell.execute_reply": "2024-07-12T14:31:33.317392Z",
     "shell.execute_reply.started": "2024-07-12T14:31:23.086706Z"
    }
   },
   "outputs": [
    {
     "name": "stdout",
     "output_type": "stream",
     "text": [
      "Collecting flash_attn\n",
      "  Using cached flash_attn-2.6.0.post1.tar.gz (2.6 MB)\n",
      "  Preparing metadata (setup.py): started\n",
      "  Preparing metadata (setup.py): finished with status 'error'\n"
     ]
    },
    {
     "name": "stderr",
     "output_type": "stream",
     "text": [
      "  error: subprocess-exited-with-error\n",
      "  \n",
      "  python setup.py egg_info did not run successfully.\n",
      "  exit code: 1\n",
      "  \n",
      "  [22 lines of output]\n",
      "  fatal: not a git repository (or any of the parent directories): .git\n",
      "  C:\\Users\\Sivaranjani\\AppData\\Local\\Temp\\pip-install-jt2ieelq\\flash-attn_1c67b9c20c424e0b9d626ec8a13866a9\\setup.py:78: UserWarning: flash_attn was requested, but nvcc was not found.  Are you sure your environment has nvcc available?  If you're installing within a container from https://hub.docker.com/r/pytorch/pytorch, only images whose names contain 'devel' will provide nvcc.\n",
      "    warnings.warn(\n",
      "  Traceback (most recent call last):\n",
      "    File \"<string>\", line 2, in <module>\n",
      "    File \"<pip-setuptools-caller>\", line 34, in <module>\n",
      "    File \"C:\\Users\\Sivaranjani\\AppData\\Local\\Temp\\pip-install-jt2ieelq\\flash-attn_1c67b9c20c424e0b9d626ec8a13866a9\\setup.py\", line 134, in <module>\n",
      "      CUDAExtension(\n",
      "    File \"C:\\Users\\Sivaranjani\\AppData\\Local\\Programs\\Python\\Python311\\Lib\\site-packages\\torch\\utils\\cpp_extension.py\", line 1076, in CUDAExtension\n",
      "      library_dirs += library_paths(cuda=True)\n",
      "                      ^^^^^^^^^^^^^^^^^^^^^^^^\n",
      "    File \"C:\\Users\\Sivaranjani\\AppData\\Local\\Programs\\Python\\Python311\\Lib\\site-packages\\torch\\utils\\cpp_extension.py\", line 1210, in library_paths\n",
      "      paths.append(_join_cuda_home(lib_dir))\n",
      "                   ^^^^^^^^^^^^^^^^^^^^^^^^\n",
      "    File \"C:\\Users\\Sivaranjani\\AppData\\Local\\Programs\\Python\\Python311\\Lib\\site-packages\\torch\\utils\\cpp_extension.py\", line 2416, in _join_cuda_home\n",
      "      raise OSError('CUDA_HOME environment variable is not set. '\n",
      "  OSError: CUDA_HOME environment variable is not set. Please set it to your CUDA install root.\n",
      "  \n",
      "  \n",
      "  torch.__version__  = 2.1.1+cpu\n",
      "  \n",
      "  \n",
      "  [end of output]\n",
      "  \n",
      "  note: This error originates from a subprocess, and is likely not a problem with pip.\n",
      "error: metadata-generation-failed\n",
      "\n",
      "Encountered error while generating package metadata.\n",
      "\n",
      "See above for output.\n",
      "\n",
      "note: This is an issue with the package mentioned above, not pip.\n",
      "hint: See above for details.\n"
     ]
    }
   ],
   "source": [
    "!pip install flash_attn\n"
   ]
  },
  {
   "cell_type": "code",
   "execution_count": null,
   "id": "6a73162c-5c94-4a10-b8c9-cf60bb995e2c",
   "metadata": {},
   "outputs": [],
   "source": []
  }
 ],
 "metadata": {
  "kernelspec": {
   "display_name": "Python 3 (ipykernel)",
   "language": "python",
   "name": "python3"
  },
  "language_info": {
   "codemirror_mode": {
    "name": "ipython",
    "version": 3
   },
   "file_extension": ".py",
   "mimetype": "text/x-python",
   "name": "python",
   "nbconvert_exporter": "python",
   "pygments_lexer": "ipython3",
   "version": "3.11.5"
  }
 },
 "nbformat": 4,
 "nbformat_minor": 5
}
